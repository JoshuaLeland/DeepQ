{
 "cells": [
  {
   "cell_type": "code",
   "execution_count": 1,
   "metadata": {},
   "outputs": [],
   "source": [
    "%matplotlib inline\n",
    "import gym, torch\n",
    "from QLearner import AtariNetwork\n",
    "from QLearner import DQNAgent\n",
    "import matplotlib.pyplot as plt\n",
    "from IPython import display\n",
    "import pylab as pl\n",
    "import time"
   ]
  },
  {
   "cell_type": "code",
   "execution_count": 2,
   "metadata": {},
   "outputs": [
    {
     "data": {
      "text/plain": [
       "(210, 160, 3)"
      ]
     },
     "execution_count": 2,
     "metadata": {},
     "output_type": "execute_result"
    }
   ],
   "source": [
    "env = gym.make('PongNoFrameskip-v4')\n",
    "frame = env.reset()\n",
    "frame.shape"
   ]
  },
  {
   "cell_type": "code",
   "execution_count": 3,
   "metadata": {},
   "outputs": [],
   "source": [
    "height, width, channels = frame.shape"
   ]
  },
  {
   "cell_type": "code",
   "execution_count": 4,
   "metadata": {},
   "outputs": [],
   "source": [
    "network = AtariNetwork(height, width, 1, 6)"
   ]
  },
  {
   "cell_type": "code",
   "execution_count": 5,
   "metadata": {},
   "outputs": [],
   "source": [
    "frame_tensor = torch.Tensor(frame).transpose(0,2).unsqueeze(0)"
   ]
  },
  {
   "cell_type": "code",
   "execution_count": 6,
   "metadata": {},
   "outputs": [
    {
     "data": {
      "text/plain": [
       "torch.Size([1, 3, 160, 210])"
      ]
     },
     "execution_count": 6,
     "metadata": {},
     "output_type": "execute_result"
    }
   ],
   "source": [
    "frame_tensor.shape"
   ]
  },
  {
   "cell_type": "code",
   "execution_count": 7,
   "metadata": {},
   "outputs": [
    {
     "data": {
      "text/plain": [
       "array([[[0.        , 0.        , 0.        ],\n",
       "        [0.        , 0.        , 0.        ],\n",
       "        [0.        , 0.        , 0.        ],\n",
       "        ...,\n",
       "        [0.42745098, 0.4627451 , 0.16862745],\n",
       "        [0.42745098, 0.4627451 , 0.16862745],\n",
       "        [0.42745098, 0.4627451 , 0.16862745]],\n",
       "\n",
       "       [[0.42745098, 0.4627451 , 0.16862745],\n",
       "        [0.42745098, 0.4627451 , 0.16862745],\n",
       "        [0.42745098, 0.4627451 , 0.16862745],\n",
       "        ...,\n",
       "        [0.42745098, 0.4627451 , 0.16862745],\n",
       "        [0.42745098, 0.4627451 , 0.16862745],\n",
       "        [0.42745098, 0.4627451 , 0.16862745]],\n",
       "\n",
       "       [[0.42745098, 0.4627451 , 0.16862745],\n",
       "        [0.42745098, 0.4627451 , 0.16862745],\n",
       "        [0.42745098, 0.4627451 , 0.16862745],\n",
       "        ...,\n",
       "        [0.42745098, 0.4627451 , 0.16862745],\n",
       "        [0.42745098, 0.4627451 , 0.16862745],\n",
       "        [0.42745098, 0.4627451 , 0.16862745]],\n",
       "\n",
       "       ...,\n",
       "\n",
       "       [[0.20784314, 0.37254902, 0.09411765],\n",
       "        [0.20784314, 0.37254902, 0.09411765],\n",
       "        [0.20784314, 0.37254902, 0.09411765],\n",
       "        ...,\n",
       "        [0.20784314, 0.37254902, 0.09411765],\n",
       "        [0.20784314, 0.37254902, 0.09411765],\n",
       "        [0.20784314, 0.37254902, 0.09411765]],\n",
       "\n",
       "       [[0.20784314, 0.37254902, 0.09411765],\n",
       "        [0.20784314, 0.37254902, 0.09411765],\n",
       "        [0.20784314, 0.37254902, 0.09411765],\n",
       "        ...,\n",
       "        [0.20784314, 0.37254902, 0.09411765],\n",
       "        [0.20784314, 0.37254902, 0.09411765],\n",
       "        [0.20784314, 0.37254902, 0.09411765]],\n",
       "\n",
       "       [[0.20784314, 0.37254902, 0.09411765],\n",
       "        [0.20784314, 0.37254902, 0.09411765],\n",
       "        [0.20784314, 0.37254902, 0.09411765],\n",
       "        ...,\n",
       "        [0.20784314, 0.37254902, 0.09411765],\n",
       "        [0.20784314, 0.37254902, 0.09411765],\n",
       "        [0.20784314, 0.37254902, 0.09411765]]])"
      ]
     },
     "execution_count": 7,
     "metadata": {},
     "output_type": "execute_result"
    }
   ],
   "source": [
    "frame / 255.0"
   ]
  },
  {
   "cell_type": "code",
   "execution_count": 8,
   "metadata": {},
   "outputs": [],
   "source": [
    "agent = DQNAgent(env, height, width, 3, env.action_space.n)"
   ]
  },
  {
   "cell_type": "code",
   "execution_count": 9,
   "metadata": {},
   "outputs": [
    {
     "data": {
      "text/plain": [
       "([], 5, 0.0, False)"
      ]
     },
     "execution_count": 9,
     "metadata": {},
     "output_type": "execute_result"
    }
   ],
   "source": [
    "agent.step_env()"
   ]
  },
  {
   "cell_type": "code",
   "execution_count": 10,
   "metadata": {},
   "outputs": [
    {
     "data": {
      "text/plain": [
       "False"
      ]
     },
     "execution_count": 10,
     "metadata": {},
     "output_type": "execute_result"
    }
   ],
   "source": [
    "agent.replay_buffer.can_sample(1)"
   ]
  },
  {
   "cell_type": "code",
   "execution_count": 11,
   "metadata": {},
   "outputs": [],
   "source": [
    "for _ in range(100):\n",
    "    agent.step_env()"
   ]
  },
  {
   "cell_type": "code",
   "execution_count": 12,
   "metadata": {},
   "outputs": [],
   "source": [
    "agent.update(7)"
   ]
  },
  {
   "cell_type": "code",
   "execution_count": 13,
   "metadata": {},
   "outputs": [],
   "source": [
    "#agent.render_episode()"
   ]
  },
  {
   "cell_type": "code",
   "execution_count": 14,
   "metadata": {},
   "outputs": [
    {
     "ename": "KeyboardInterrupt",
     "evalue": "",
     "output_type": "error",
     "traceback": [
      "\u001b[0;31m---------------------------------------------------------------------------\u001b[0m",
      "\u001b[0;31mKeyboardInterrupt\u001b[0m                         Traceback (most recent call last)",
      "\u001b[0;32m<ipython-input-14-44ad7bceb777>\u001b[0m in \u001b[0;36m<module>\u001b[0;34m\u001b[0m\n\u001b[1;32m      7\u001b[0m         \u001b[0mdisplay\u001b[0m\u001b[0;34m.\u001b[0m\u001b[0mclear_output\u001b[0m\u001b[0;34m(\u001b[0m\u001b[0mwait\u001b[0m\u001b[0;34m=\u001b[0m\u001b[0;32mTrue\u001b[0m\u001b[0;34m)\u001b[0m\u001b[0;34m\u001b[0m\u001b[0;34m\u001b[0m\u001b[0m\n\u001b[1;32m      8\u001b[0m         \u001b[0;31m#display.display(plt.clf())\u001b[0m\u001b[0;34m\u001b[0m\u001b[0;34m\u001b[0m\u001b[0;34m\u001b[0m\u001b[0m\n\u001b[0;32m----> 9\u001b[0;31m         \u001b[0mtime\u001b[0m\u001b[0;34m.\u001b[0m\u001b[0msleep\u001b[0m\u001b[0;34m(\u001b[0m\u001b[0;36m1.0\u001b[0m\u001b[0;34m)\u001b[0m\u001b[0;34m\u001b[0m\u001b[0;34m\u001b[0m\u001b[0m\n\u001b[0m",
      "\u001b[0;31mKeyboardInterrupt\u001b[0m: "
     ]
    },
    {
     "data": {
      "image/png": "[encoded data removed]",
      "text/plain": [
       "<Figure size 432x288 with 1 Axes>"
      ]
     },
     "metadata": {
      "needs_background": "light"
     },
     "output_type": "display_data"
    }
   ],
   "source": [
    "plot_list = []\n",
    "for i in range(1000):\n",
    "    \n",
    "    if i % 10==0:\n",
    "        plot_list.append(i)\n",
    "        display.display(plt.plot(plot_list))\n",
    "        display.clear_output(wait=True)\n",
    "        display.display(plt.plot(plot_list))\n",
    "        #time.sleep(1.0)"
   ]
  },
  {
   "cell_type": "code",
   "execution_count": null,
   "metadata": {},
   "outputs": [],
   "source": []
  }
 ],
 "metadata": {
  "kernelspec": {
   "display_name": "Python 3",
   "language": "python",
   "name": "python3"
  },
  "language_info": {
   "codemirror_mode": {
    "name": "ipython",
    "version": 3
   },
   "file_extension": ".py",
   "mimetype": "text/x-python",
   "name": "python",
   "nbconvert_exporter": "python",
   "pygments_lexer": "ipython3",
   "version": "3.6.7"
  }
 },
 "nbformat": 4,
 "nbformat_minor": 2
}
